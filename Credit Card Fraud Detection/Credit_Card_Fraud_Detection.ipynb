{
  "cells": [
    {
      "cell_type": "markdown",
      "metadata": {
        "id": "h9fKAHufkqXW"
      },
      "source": [
        " # Importing all the necessary Libraries"
      ]
    },
    {
      "cell_type": "code",
      "execution_count": 2,
      "metadata": {
        "id": "s1MR-dyghE2W"
      },
      "outputs": [],
      "source": [
        "import numpy as np\n",
        "import pandas as pd\n",
        "import matplotlib.pyplot as plt\n",
        "import seaborn as sns\n",
        "from matplotlib import gridspec"
      ]
    },
    {
      "cell_type": "markdown",
      "metadata": {
        "id": "z57GE3IpkxY0"
      },
      "source": [
        "#Loading the Data"
      ]
    },
    {
      "cell_type": "code",
      "execution_count": 4,
      "metadata": {
        "id": "x0ssRwgFhiqq"
      },
      "outputs": [],
      "source": [
        "data = pd.read_csv(\"D:\\\\Python\\\\ML\\\\Fraud_Detection\\\\creditcard.csv\")"
      ]
    },
    {
      "cell_type": "markdown",
      "metadata": {
        "id": "lXhrGh4Qk5tm"
      },
      "source": [
        "#Understanding the Data"
      ]
    },
    {
      "cell_type": "code",
      "execution_count": 5,
      "metadata": {
        "colab": {
          "base_uri": "https://localhost:8080/",
          "height": 255
        },
        "id": "2OWUAxp5k50w",
        "outputId": "57dba3f4-6521-4ec4-96ed-5e06ebbb8aa0"
      },
      "outputs": [
        {
          "data": {
            "application/vnd.microsoft.datawrangler.viewer.v0+json": {
              "columns": [
                {
                  "name": "index",
                  "rawType": "int64",
                  "type": "integer"
                },
                {
                  "name": "Time",
                  "rawType": "float64",
                  "type": "float"
                },
                {
                  "name": "V1",
                  "rawType": "float64",
                  "type": "float"
                },
                {
                  "name": "V2",
                  "rawType": "float64",
                  "type": "float"
                },
                {
                  "name": "V3",
                  "rawType": "float64",
                  "type": "float"
                },
                {
                  "name": "V4",
                  "rawType": "float64",
                  "type": "float"
                },
                {
                  "name": "V5",
                  "rawType": "float64",
                  "type": "float"
                },
                {
                  "name": "V6",
                  "rawType": "float64",
                  "type": "float"
                },
                {
                  "name": "V7",
                  "rawType": "float64",
                  "type": "float"
                },
                {
                  "name": "V8",
                  "rawType": "float64",
                  "type": "float"
                },
                {
                  "name": "V9",
                  "rawType": "float64",
                  "type": "float"
                },
                {
                  "name": "V10",
                  "rawType": "float64",
                  "type": "float"
                },
                {
                  "name": "V11",
                  "rawType": "float64",
                  "type": "float"
                },
                {
                  "name": "V12",
                  "rawType": "float64",
                  "type": "float"
                },
                {
                  "name": "V13",
                  "rawType": "float64",
                  "type": "float"
                },
                {
                  "name": "V14",
                  "rawType": "float64",
                  "type": "float"
                },
                {
                  "name": "V15",
                  "rawType": "float64",
                  "type": "float"
                },
                {
                  "name": "V16",
                  "rawType": "float64",
                  "type": "float"
                },
                {
                  "name": "V17",
                  "rawType": "float64",
                  "type": "float"
                },
                {
                  "name": "V18",
                  "rawType": "float64",
                  "type": "float"
                },
                {
                  "name": "V19",
                  "rawType": "float64",
                  "type": "float"
                },
                {
                  "name": "V20",
                  "rawType": "float64",
                  "type": "float"
                },
                {
                  "name": "V21",
                  "rawType": "float64",
                  "type": "float"
                },
                {
                  "name": "V22",
                  "rawType": "float64",
                  "type": "float"
                },
                {
                  "name": "V23",
                  "rawType": "float64",
                  "type": "float"
                },
                {
                  "name": "V24",
                  "rawType": "float64",
                  "type": "float"
                },
                {
                  "name": "V25",
                  "rawType": "float64",
                  "type": "float"
                },
                {
                  "name": "V26",
                  "rawType": "float64",
                  "type": "float"
                },
                {
                  "name": "V27",
                  "rawType": "float64",
                  "type": "float"
                },
                {
                  "name": "V28",
                  "rawType": "float64",
                  "type": "float"
                },
                {
                  "name": "Amount",
                  "rawType": "float64",
                  "type": "float"
                },
                {
                  "name": "Class",
                  "rawType": "int64",
                  "type": "integer"
                }
              ],
              "conversionMethod": "pd.DataFrame",
              "ref": "981c5991-2854-44e0-bac2-fd3786f423a6",
              "rows": [
                [
                  "0",
                  "0.0",
                  "-1.3598071336738",
                  "-0.0727811733098497",
                  "2.53634673796914",
                  "1.37815522427443",
                  "-0.338320769942518",
                  "0.462387777762292",
                  "0.239598554061257",
                  "0.0986979012610507",
                  "0.363786969611213",
                  "0.0907941719789316",
                  "-0.551599533260813",
                  "-0.617800855762348",
                  "-0.991389847235408",
                  "-0.311169353699879",
                  "1.46817697209427",
                  "-0.470400525259478",
                  "0.207971241929242",
                  "0.0257905801985591",
                  "0.403992960255733",
                  "0.251412098239705",
                  "-0.018306777944153",
                  "0.277837575558899",
                  "-0.110473910188767",
                  "0.0669280749146731",
                  "0.128539358273528",
                  "-0.189114843888824",
                  "0.133558376740387",
                  "-0.0210530534538215",
                  "149.62",
                  "0"
                ],
                [
                  "1",
                  "0.0",
                  "1.19185711131486",
                  "0.26615071205963",
                  "0.16648011335321",
                  "0.448154078460911",
                  "0.0600176492822243",
                  "-0.0823608088155687",
                  "-0.0788029833323113",
                  "0.0851016549148104",
                  "-0.255425128109186",
                  "-0.166974414004614",
                  "1.61272666105479",
                  "1.06523531137287",
                  "0.48909501589608",
                  "-0.143772296441519",
                  "0.635558093258208",
                  "0.463917041022171",
                  "-0.114804663102346",
                  "-0.183361270123994",
                  "-0.145783041325259",
                  "-0.0690831352230203",
                  "-0.225775248033138",
                  "-0.638671952771851",
                  "0.101288021253234",
                  "-0.339846475529127",
                  "0.167170404418143",
                  "0.125894532368176",
                  "-0.0089830991432281",
                  "0.0147241691924927",
                  "2.69",
                  "0"
                ],
                [
                  "2",
                  "1.0",
                  "-1.35835406159823",
                  "-1.34016307473609",
                  "1.77320934263119",
                  "0.379779593034328",
                  "-0.503198133318193",
                  "1.80049938079263",
                  "0.791460956450422",
                  "0.247675786588991",
                  "-1.51465432260583",
                  "0.207642865216696",
                  "0.624501459424895",
                  "0.066083685268831",
                  "0.717292731410831",
                  "-0.165945922763554",
                  "2.34586494901581",
                  "-2.89008319444231",
                  "1.10996937869599",
                  "-0.121359313195888",
                  "-2.26185709530414",
                  "0.524979725224404",
                  "0.247998153469754",
                  "0.771679401917229",
                  "0.909412262347719",
                  "-0.689280956490685",
                  "-0.327641833735251",
                  "-0.139096571514147",
                  "-0.0553527940384261",
                  "-0.0597518405929204",
                  "378.66",
                  "0"
                ],
                [
                  "3",
                  "1.0",
                  "-0.966271711572087",
                  "-0.185226008082898",
                  "1.79299333957872",
                  "-0.863291275036453",
                  "-0.0103088796030823",
                  "1.24720316752486",
                  "0.23760893977178",
                  "0.377435874652262",
                  "-1.38702406270197",
                  "-0.0549519224713749",
                  "-0.226487263835401",
                  "0.178228225877303",
                  "0.507756869957169",
                  "-0.28792374549456",
                  "-0.631418117709045",
                  "-1.0596472454325",
                  "-0.684092786345479",
                  "1.96577500349538",
                  "-1.2326219700892",
                  "-0.208037781160366",
                  "-0.108300452035545",
                  "0.0052735967825345",
                  "-0.190320518742841",
                  "-1.17557533186321",
                  "0.647376034602038",
                  "-0.221928844458407",
                  "0.0627228487293033",
                  "0.0614576285006353",
                  "123.5",
                  "0"
                ],
                [
                  "4",
                  "2.0",
                  "-1.15823309349523",
                  "0.877736754848451",
                  "1.548717846511",
                  "0.403033933955121",
                  "-0.407193377311653",
                  "0.0959214624684256",
                  "0.592940745385545",
                  "-0.270532677192282",
                  "0.817739308235294",
                  "0.753074431976354",
                  "-0.822842877946363",
                  "0.53819555014995",
                  "1.3458515932154",
                  "-1.11966983471731",
                  "0.175121130008994",
                  "-0.451449182813529",
                  "-0.237033239362776",
                  "-0.0381947870352842",
                  "0.803486924960175",
                  "0.408542360392758",
                  "-0.0094306971323291",
                  "0.79827849458971",
                  "-0.137458079619063",
                  "0.141266983824769",
                  "-0.206009587619756",
                  "0.502292224181569",
                  "0.219422229513348",
                  "0.215153147499206",
                  "69.99",
                  "0"
                ]
              ],
              "shape": {
                "columns": 31,
                "rows": 5
              }
            },
            "text/html": [
              "<div>\n",
              "<style scoped>\n",
              "    .dataframe tbody tr th:only-of-type {\n",
              "        vertical-align: middle;\n",
              "    }\n",
              "\n",
              "    .dataframe tbody tr th {\n",
              "        vertical-align: top;\n",
              "    }\n",
              "\n",
              "    .dataframe thead th {\n",
              "        text-align: right;\n",
              "    }\n",
              "</style>\n",
              "<table border=\"1\" class=\"dataframe\">\n",
              "  <thead>\n",
              "    <tr style=\"text-align: right;\">\n",
              "      <th></th>\n",
              "      <th>Time</th>\n",
              "      <th>V1</th>\n",
              "      <th>V2</th>\n",
              "      <th>V3</th>\n",
              "      <th>V4</th>\n",
              "      <th>V5</th>\n",
              "      <th>V6</th>\n",
              "      <th>V7</th>\n",
              "      <th>V8</th>\n",
              "      <th>V9</th>\n",
              "      <th>...</th>\n",
              "      <th>V21</th>\n",
              "      <th>V22</th>\n",
              "      <th>V23</th>\n",
              "      <th>V24</th>\n",
              "      <th>V25</th>\n",
              "      <th>V26</th>\n",
              "      <th>V27</th>\n",
              "      <th>V28</th>\n",
              "      <th>Amount</th>\n",
              "      <th>Class</th>\n",
              "    </tr>\n",
              "  </thead>\n",
              "  <tbody>\n",
              "    <tr>\n",
              "      <th>0</th>\n",
              "      <td>0.0</td>\n",
              "      <td>-1.359807</td>\n",
              "      <td>-0.072781</td>\n",
              "      <td>2.536347</td>\n",
              "      <td>1.378155</td>\n",
              "      <td>-0.338321</td>\n",
              "      <td>0.462388</td>\n",
              "      <td>0.239599</td>\n",
              "      <td>0.098698</td>\n",
              "      <td>0.363787</td>\n",
              "      <td>...</td>\n",
              "      <td>-0.018307</td>\n",
              "      <td>0.277838</td>\n",
              "      <td>-0.110474</td>\n",
              "      <td>0.066928</td>\n",
              "      <td>0.128539</td>\n",
              "      <td>-0.189115</td>\n",
              "      <td>0.133558</td>\n",
              "      <td>-0.021053</td>\n",
              "      <td>149.62</td>\n",
              "      <td>0</td>\n",
              "    </tr>\n",
              "    <tr>\n",
              "      <th>1</th>\n",
              "      <td>0.0</td>\n",
              "      <td>1.191857</td>\n",
              "      <td>0.266151</td>\n",
              "      <td>0.166480</td>\n",
              "      <td>0.448154</td>\n",
              "      <td>0.060018</td>\n",
              "      <td>-0.082361</td>\n",
              "      <td>-0.078803</td>\n",
              "      <td>0.085102</td>\n",
              "      <td>-0.255425</td>\n",
              "      <td>...</td>\n",
              "      <td>-0.225775</td>\n",
              "      <td>-0.638672</td>\n",
              "      <td>0.101288</td>\n",
              "      <td>-0.339846</td>\n",
              "      <td>0.167170</td>\n",
              "      <td>0.125895</td>\n",
              "      <td>-0.008983</td>\n",
              "      <td>0.014724</td>\n",
              "      <td>2.69</td>\n",
              "      <td>0</td>\n",
              "    </tr>\n",
              "    <tr>\n",
              "      <th>2</th>\n",
              "      <td>1.0</td>\n",
              "      <td>-1.358354</td>\n",
              "      <td>-1.340163</td>\n",
              "      <td>1.773209</td>\n",
              "      <td>0.379780</td>\n",
              "      <td>-0.503198</td>\n",
              "      <td>1.800499</td>\n",
              "      <td>0.791461</td>\n",
              "      <td>0.247676</td>\n",
              "      <td>-1.514654</td>\n",
              "      <td>...</td>\n",
              "      <td>0.247998</td>\n",
              "      <td>0.771679</td>\n",
              "      <td>0.909412</td>\n",
              "      <td>-0.689281</td>\n",
              "      <td>-0.327642</td>\n",
              "      <td>-0.139097</td>\n",
              "      <td>-0.055353</td>\n",
              "      <td>-0.059752</td>\n",
              "      <td>378.66</td>\n",
              "      <td>0</td>\n",
              "    </tr>\n",
              "    <tr>\n",
              "      <th>3</th>\n",
              "      <td>1.0</td>\n",
              "      <td>-0.966272</td>\n",
              "      <td>-0.185226</td>\n",
              "      <td>1.792993</td>\n",
              "      <td>-0.863291</td>\n",
              "      <td>-0.010309</td>\n",
              "      <td>1.247203</td>\n",
              "      <td>0.237609</td>\n",
              "      <td>0.377436</td>\n",
              "      <td>-1.387024</td>\n",
              "      <td>...</td>\n",
              "      <td>-0.108300</td>\n",
              "      <td>0.005274</td>\n",
              "      <td>-0.190321</td>\n",
              "      <td>-1.175575</td>\n",
              "      <td>0.647376</td>\n",
              "      <td>-0.221929</td>\n",
              "      <td>0.062723</td>\n",
              "      <td>0.061458</td>\n",
              "      <td>123.50</td>\n",
              "      <td>0</td>\n",
              "    </tr>\n",
              "    <tr>\n",
              "      <th>4</th>\n",
              "      <td>2.0</td>\n",
              "      <td>-1.158233</td>\n",
              "      <td>0.877737</td>\n",
              "      <td>1.548718</td>\n",
              "      <td>0.403034</td>\n",
              "      <td>-0.407193</td>\n",
              "      <td>0.095921</td>\n",
              "      <td>0.592941</td>\n",
              "      <td>-0.270533</td>\n",
              "      <td>0.817739</td>\n",
              "      <td>...</td>\n",
              "      <td>-0.009431</td>\n",
              "      <td>0.798278</td>\n",
              "      <td>-0.137458</td>\n",
              "      <td>0.141267</td>\n",
              "      <td>-0.206010</td>\n",
              "      <td>0.502292</td>\n",
              "      <td>0.219422</td>\n",
              "      <td>0.215153</td>\n",
              "      <td>69.99</td>\n",
              "      <td>0</td>\n",
              "    </tr>\n",
              "  </tbody>\n",
              "</table>\n",
              "<p>5 rows × 31 columns</p>\n",
              "</div>"
            ],
            "text/plain": [
              "   Time        V1        V2        V3        V4        V5        V6        V7  \\\n",
              "0   0.0 -1.359807 -0.072781  2.536347  1.378155 -0.338321  0.462388  0.239599   \n",
              "1   0.0  1.191857  0.266151  0.166480  0.448154  0.060018 -0.082361 -0.078803   \n",
              "2   1.0 -1.358354 -1.340163  1.773209  0.379780 -0.503198  1.800499  0.791461   \n",
              "3   1.0 -0.966272 -0.185226  1.792993 -0.863291 -0.010309  1.247203  0.237609   \n",
              "4   2.0 -1.158233  0.877737  1.548718  0.403034 -0.407193  0.095921  0.592941   \n",
              "\n",
              "         V8        V9  ...       V21       V22       V23       V24       V25  \\\n",
              "0  0.098698  0.363787  ... -0.018307  0.277838 -0.110474  0.066928  0.128539   \n",
              "1  0.085102 -0.255425  ... -0.225775 -0.638672  0.101288 -0.339846  0.167170   \n",
              "2  0.247676 -1.514654  ...  0.247998  0.771679  0.909412 -0.689281 -0.327642   \n",
              "3  0.377436 -1.387024  ... -0.108300  0.005274 -0.190321 -1.175575  0.647376   \n",
              "4 -0.270533  0.817739  ... -0.009431  0.798278 -0.137458  0.141267 -0.206010   \n",
              "\n",
              "        V26       V27       V28  Amount  Class  \n",
              "0 -0.189115  0.133558 -0.021053  149.62      0  \n",
              "1  0.125895 -0.008983  0.014724    2.69      0  \n",
              "2 -0.139097 -0.055353 -0.059752  378.66      0  \n",
              "3 -0.221929  0.062723  0.061458  123.50      0  \n",
              "4  0.502292  0.219422  0.215153   69.99      0  \n",
              "\n",
              "[5 rows x 31 columns]"
            ]
          },
          "execution_count": 5,
          "metadata": {},
          "output_type": "execute_result"
        }
      ],
      "source": [
        "data.head()"
      ]
    },
    {
      "cell_type": "markdown",
      "metadata": {
        "id": "5Ag5BVjmlAik"
      },
      "source": [
        "#Describing the Data"
      ]
    },
    {
      "cell_type": "code",
      "execution_count": 6,
      "metadata": {
        "colab": {
          "base_uri": "https://localhost:8080/"
        },
        "id": "LgnII0d3ik6s",
        "outputId": "22390243-16b5-49ca-b205-6be66ca5dcb5"
      },
      "outputs": [
        {
          "name": "stdout",
          "output_type": "stream",
          "text": [
            "(284807, 31)\n",
            "                Time            V1            V2            V3            V4  \\\n",
            "count  284807.000000  2.848070e+05  2.848070e+05  2.848070e+05  2.848070e+05   \n",
            "mean    94813.859575  1.168375e-15  3.416908e-16 -1.379537e-15  2.074095e-15   \n",
            "std     47488.145955  1.958696e+00  1.651309e+00  1.516255e+00  1.415869e+00   \n",
            "min         0.000000 -5.640751e+01 -7.271573e+01 -4.832559e+01 -5.683171e+00   \n",
            "25%     54201.500000 -9.203734e-01 -5.985499e-01 -8.903648e-01 -8.486401e-01   \n",
            "50%     84692.000000  1.810880e-02  6.548556e-02  1.798463e-01 -1.984653e-02   \n",
            "75%    139320.500000  1.315642e+00  8.037239e-01  1.027196e+00  7.433413e-01   \n",
            "max    172792.000000  2.454930e+00  2.205773e+01  9.382558e+00  1.687534e+01   \n",
            "\n",
            "                 V5            V6            V7            V8            V9  \\\n",
            "count  2.848070e+05  2.848070e+05  2.848070e+05  2.848070e+05  2.848070e+05   \n",
            "mean   9.604066e-16  1.487313e-15 -5.556467e-16  1.213481e-16 -2.406331e-15   \n",
            "std    1.380247e+00  1.332271e+00  1.237094e+00  1.194353e+00  1.098632e+00   \n",
            "min   -1.137433e+02 -2.616051e+01 -4.355724e+01 -7.321672e+01 -1.343407e+01   \n",
            "25%   -6.915971e-01 -7.682956e-01 -5.540759e-01 -2.086297e-01 -6.430976e-01   \n",
            "50%   -5.433583e-02 -2.741871e-01  4.010308e-02  2.235804e-02 -5.142873e-02   \n",
            "75%    6.119264e-01  3.985649e-01  5.704361e-01  3.273459e-01  5.971390e-01   \n",
            "max    3.480167e+01  7.330163e+01  1.205895e+02  2.000721e+01  1.559499e+01   \n",
            "\n",
            "       ...           V21           V22           V23           V24  \\\n",
            "count  ...  2.848070e+05  2.848070e+05  2.848070e+05  2.848070e+05   \n",
            "mean   ...  1.654067e-16 -3.568593e-16  2.578648e-16  4.473266e-15   \n",
            "std    ...  7.345240e-01  7.257016e-01  6.244603e-01  6.056471e-01   \n",
            "min    ... -3.483038e+01 -1.093314e+01 -4.480774e+01 -2.836627e+00   \n",
            "25%    ... -2.283949e-01 -5.423504e-01 -1.618463e-01 -3.545861e-01   \n",
            "50%    ... -2.945017e-02  6.781943e-03 -1.119293e-02  4.097606e-02   \n",
            "75%    ...  1.863772e-01  5.285536e-01  1.476421e-01  4.395266e-01   \n",
            "max    ...  2.720284e+01  1.050309e+01  2.252841e+01  4.584549e+00   \n",
            "\n",
            "                V25           V26           V27           V28         Amount  \\\n",
            "count  2.848070e+05  2.848070e+05  2.848070e+05  2.848070e+05  284807.000000   \n",
            "mean   5.340915e-16  1.683437e-15 -3.660091e-16 -1.227390e-16      88.349619   \n",
            "std    5.212781e-01  4.822270e-01  4.036325e-01  3.300833e-01     250.120109   \n",
            "min   -1.029540e+01 -2.604551e+00 -2.256568e+01 -1.543008e+01       0.000000   \n",
            "25%   -3.171451e-01 -3.269839e-01 -7.083953e-02 -5.295979e-02       5.600000   \n",
            "50%    1.659350e-02 -5.213911e-02  1.342146e-03  1.124383e-02      22.000000   \n",
            "75%    3.507156e-01  2.409522e-01  9.104512e-02  7.827995e-02      77.165000   \n",
            "max    7.519589e+00  3.517346e+00  3.161220e+01  3.384781e+01   25691.160000   \n",
            "\n",
            "               Class  \n",
            "count  284807.000000  \n",
            "mean        0.001727  \n",
            "std         0.041527  \n",
            "min         0.000000  \n",
            "25%         0.000000  \n",
            "50%         0.000000  \n",
            "75%         0.000000  \n",
            "max         1.000000  \n",
            "\n",
            "[8 rows x 31 columns]\n"
          ]
        }
      ],
      "source": [
        "print(data.shape)\n",
        "print(data.describe())"
      ]
    },
    {
      "cell_type": "markdown",
      "metadata": {
        "id": "xASeDir2lEV3"
      },
      "source": [
        "#Imbalance in the data"
      ]
    },
    {
      "cell_type": "code",
      "execution_count": 7,
      "metadata": {
        "colab": {
          "base_uri": "https://localhost:8080/"
        },
        "id": "PUkzpXpslEi5",
        "outputId": "a44182bd-3730-4c93-c994-9d5fb2f072ea"
      },
      "outputs": [
        {
          "name": "stdout",
          "output_type": "stream",
          "text": [
            "0.0017304750013189597\n",
            "Fraud Cases: 492\n",
            "Valid Transactions: 284315\n"
          ]
        }
      ],
      "source": [
        "fraud = data[data['Class'] == 1]\n",
        "valid = data[data['Class'] == 0]\n",
        "outlierFraction = len(fraud)/float(len(valid))\n",
        "print(outlierFraction)\n",
        "print('Fraud Cases: {}'.format(len(data[data['Class'] == 1])))\n",
        "print('Valid Transactions: {}'.format(len(data[data['Class'] == 0])))"
      ]
    },
    {
      "cell_type": "markdown",
      "metadata": {
        "id": "EuaFSTwWlMv7"
      },
      "source": [
        "#Print the amount details for Fraudulent Transaction"
      ]
    },
    {
      "cell_type": "code",
      "execution_count": 8,
      "metadata": {
        "colab": {
          "base_uri": "https://localhost:8080/",
          "height": 352
        },
        "id": "sQeWkjpFlM4p",
        "outputId": "35560e12-4d4d-4849-e8bb-1729089f068c"
      },
      "outputs": [
        {
          "name": "stdout",
          "output_type": "stream",
          "text": [
            "Amount details of the fraudulent transaction\n"
          ]
        },
        {
          "data": {
            "text/plain": [
              "count     492.000000\n",
              "mean      122.211321\n",
              "std       256.683288\n",
              "min         0.000000\n",
              "25%         1.000000\n",
              "50%         9.250000\n",
              "75%       105.890000\n",
              "max      2125.870000\n",
              "Name: Amount, dtype: float64"
            ]
          },
          "execution_count": 8,
          "metadata": {},
          "output_type": "execute_result"
        }
      ],
      "source": [
        "print(\"Amount details of the fraudulent transaction\")\n",
        "fraud.Amount.describe()"
      ]
    },
    {
      "cell_type": "markdown",
      "metadata": {
        "id": "mSPyTOSNlS9e"
      },
      "source": [
        "# Print the amount details for Normal Transaction"
      ]
    },
    {
      "cell_type": "code",
      "execution_count": 9,
      "metadata": {
        "colab": {
          "base_uri": "https://localhost:8080/",
          "height": 352
        },
        "id": "n7YhuaymlUZ0",
        "outputId": "9e406fc8-1954-4a74-8aa1-80b4bcdad6eb"
      },
      "outputs": [
        {
          "name": "stdout",
          "output_type": "stream",
          "text": [
            "details of valid transaction\n"
          ]
        },
        {
          "data": {
            "text/plain": [
              "count    284315.000000\n",
              "mean         88.291022\n",
              "std         250.105092\n",
              "min           0.000000\n",
              "25%           5.650000\n",
              "50%          22.000000\n",
              "75%          77.050000\n",
              "max       25691.160000\n",
              "Name: Amount, dtype: float64"
            ]
          },
          "execution_count": 9,
          "metadata": {},
          "output_type": "execute_result"
        }
      ],
      "source": [
        "print(\"details of valid transaction\")\n",
        "valid.Amount.describe()"
      ]
    },
    {
      "cell_type": "markdown",
      "metadata": {
        "id": "kd-P74sElaEU"
      },
      "source": [
        "#Plotting the Correlation Matrix"
      ]
    },
    {
      "cell_type": "code",
      "execution_count": 10,
      "metadata": {
        "colab": {
          "base_uri": "https://localhost:8080/",
          "height": 799
        },
        "id": "BFHP1nTxlaUw",
        "outputId": "a18d00d7-5380-432a-ac6d-ba351c6457a6"
      },
      "outputs": [
        {
          "data": {
            "image/png": "[encoded data removed]",
            "text/plain": [
              "<Figure size 1200x900 with 2 Axes>"
            ]
          },
          "metadata": {},
          "output_type": "display_data"
        }
      ],
      "source": [
        "corrmat = data.corr()\n",
        "fig = plt.figure(figsize = (12, 9))\n",
        "sns.heatmap(corrmat, vmax = .8, square = True)\n",
        "plt.show()"
      ]
    },
    {
      "cell_type": "markdown",
      "metadata": {
        "id": "vW_tUTIRlfp5"
      },
      "source": [
        "#Separating the X and the Y values"
      ]
    },
    {
      "cell_type": "code",
      "execution_count": 11,
      "metadata": {
        "colab": {
          "base_uri": "https://localhost:8080/"
        },
        "id": "azKBjmyGlgcy",
        "outputId": "2e09490c-91b9-4b5c-a193-0be82fed630f"
      },
      "outputs": [
        {
          "name": "stdout",
          "output_type": "stream",
          "text": [
            "(284807, 30)\n",
            "(284807,)\n"
          ]
        }
      ],
      "source": [
        "# dividing the X and the Y from the dataset\n",
        "X = data.drop(['Class'], axis = 1)\n",
        "Y = data[\"Class\"]\n",
        "print(X.shape)\n",
        "print(Y.shape)\n",
        "# getting just the values for the sake of processing\n",
        "# (its a numpy array with no columns)\n",
        "xData = X.values\n",
        "yData = Y.values"
      ]
    },
    {
      "cell_type": "markdown",
      "metadata": {
        "id": "D_5qQU_9lmhU"
      },
      "source": [
        "#Training and Testing Data Bifurcation"
      ]
    },
    {
      "cell_type": "code",
      "execution_count": 12,
      "metadata": {
        "id": "8amMWiAyloZ-"
      },
      "outputs": [],
      "source": [
        "# Using Scikit-learn to split data into training and testing sets\n",
        "from sklearn.model_selection import train_test_split\n",
        "# Split the data into training and testing sets\n",
        "xTrain, xTest, yTrain, yTest = train_test_split(\n",
        "        xData, yData, test_size = 0.2, random_state = 42)\n"
      ]
    },
    {
      "cell_type": "markdown",
      "metadata": {
        "id": "HSx5Cv3Wlp_Y"
      },
      "source": [
        "#Building a Random Forest Model using scikit learn"
      ]
    },
    {
      "cell_type": "code",
      "execution_count": 13,
      "metadata": {
        "id": "Bg2lDqXclrMz"
      },
      "outputs": [],
      "source": [
        "# Building the Random Forest Classifier (RANDOM FOREST)\n",
        "from sklearn.ensemble import RandomForestClassifier\n",
        "# random forest model creation\n",
        "rfc = RandomForestClassifier()\n",
        "rfc.fit(xTrain, yTrain)\n",
        "# predictions\n",
        "yPred = rfc.predict(xTest)"
      ]
    },
    {
      "cell_type": "markdown",
      "metadata": {
        "id": "uxcnrPP8lup8"
      },
      "source": [
        "# Building all kinds of evaluating parameters"
      ]
    },
    {
      "cell_type": "code",
      "execution_count": 14,
      "metadata": {
        "colab": {
          "base_uri": "https://localhost:8080/"
        },
        "id": "nqvYn5sXlvm2",
        "outputId": "2101a378-2fa1-4276-b34a-608782ab080e"
      },
      "outputs": [
        {
          "name": "stdout",
          "output_type": "stream",
          "text": [
            "The model used is Random Forest classifier\n",
            "The accuracy is 0.9995611109160493\n",
            "The precision is 0.974025974025974\n",
            "The recall is 0.7653061224489796\n",
            "The F1-Score is 0.8571428571428571\n",
            "The Matthews correlation coefficient is0.8631826952924256\n"
          ]
        }
      ],
      "source": [
        "# Evaluating the classifier\n",
        "# printing every score of the classifier\n",
        "# scoring in anything\n",
        "from sklearn.metrics import classification_report, accuracy_score\n",
        "from sklearn.metrics import precision_score, recall_score\n",
        "from sklearn.metrics import f1_score, matthews_corrcoef\n",
        "from sklearn.metrics import confusion_matrix\n",
        "\n",
        "n_outliers = len(fraud)\n",
        "n_errors = (yPred != yTest).sum()\n",
        "print(\"The model used is Random Forest classifier\")\n",
        "\n",
        "acc = accuracy_score(yTest, yPred)\n",
        "print(\"The accuracy is {}\".format(acc))\n",
        "\n",
        "prec = precision_score(yTest, yPred)\n",
        "print(\"The precision is {}\".format(prec))\n",
        "\n",
        "rec = recall_score(yTest, yPred)\n",
        "print(\"The recall is {}\".format(rec))\n",
        "\n",
        "f1 = f1_score(yTest, yPred)\n",
        "print(\"The F1-Score is {}\".format(f1))\n",
        "\n",
        "MCC = matthews_corrcoef(yTest, yPred)\n",
        "print(\"The Matthews correlation coefficient is{}\".format(MCC))"
      ]
    },
    {
      "cell_type": "markdown",
      "metadata": {
        "id": "Y4ul17Rnl2Cg"
      },
      "source": [
        "#Visualizing the Confusion Matrix"
      ]
    },
    {
      "cell_type": "code",
      "execution_count": 15,
      "metadata": {
        "colab": {
          "base_uri": "https://localhost:8080/",
          "height": 1000
        },
        "id": "5hDq9bEfl2zX",
        "outputId": "6921b0d4-6b0b-44e3-82ac-4b0a75dc5d95"
      },
      "outputs": [
        {
          "data": {
            "image/png": "[encoded data removed]",
            "text/plain": [
              "<Figure size 1200x1200 with 2 Axes>"
            ]
          },
          "metadata": {},
          "output_type": "display_data"
        }
      ],
      "source": [
        "# printing the confusion matrix\n",
        "LABELS = ['Normal', 'Fraud']\n",
        "conf_matrix = confusion_matrix(yTest, yPred)\n",
        "plt.figure(figsize =(12, 12))\n",
        "sns.heatmap(conf_matrix, xticklabels = LABELS,\n",
        "            yticklabels = LABELS, annot = True, fmt =\"d\");\n",
        "plt.title(\"Confusion matrix\")\n",
        "plt.ylabel('True class')\n",
        "plt.xlabel('Predicted class')\n",
        "plt.show()"
      ]
    }
  ],
  "metadata": {
    "colab": {
      "provenance": []
    },
    "kernelspec": {
      "display_name": "Python 3",
      "name": "python3"
    },
    "language_info": {
      "codemirror_mode": {
        "name": "ipython",
        "version": 3
      },
      "file_extension": ".py",
      "mimetype": "text/x-python",
      "name": "python",
      "nbconvert_exporter": "python",
      "pygments_lexer": "ipython3",
      "version": "3.13.2"
    }
  },
  "nbformat": 4,
  "nbformat_minor": 0
}
